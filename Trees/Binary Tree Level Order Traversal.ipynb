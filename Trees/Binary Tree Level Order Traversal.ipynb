{
 "cells": [
  {
   "cell_type": "markdown",
   "metadata": {},
   "source": [
    "# Binary Tree Level Order Traversal        \n",
    "        3\n",
    "       / \\\n",
    "      9  20\n",
    "        /  \\\n",
    "       15   7\n",
    "\n",
    "    O/p:\n",
    "        [\n",
    "      [3],\n",
    "      [9,20],\n",
    "      [15,7]\n",
    "    ]"
   ]
  },
  {
   "cell_type": "code",
   "execution_count": null,
   "metadata": {},
   "outputs": [],
   "source": [
    "class Solution:\n",
    "    def levelOrderTraversal(root):\n",
    "        '''\n",
    "        Take acre of the empty roots; in that case return null list\n",
    "        '''\n",
    "        if not root:\n",
    "            return []\n",
    "        q = [root]\n",
    "        level_order = []\n",
    "        while q:\n",
    "            x =[]\n",
    "            temp =[]\n",
    "            for node in q:\n",
    "                temp.append(node.val)\n",
    "                if node.left:\n",
    "                    x.append(node.left)\n",
    "                if node.right:\n",
    "                    x.append(node.right)\n",
    "            q = x\n",
    "            level_order.append(temp)\n",
    "        return level_order\n",
    "            \n",
    "        "
   ]
  }
 ],
 "metadata": {
  "kernelspec": {
   "display_name": "Python 3",
   "language": "python",
   "name": "python3"
  },
  "language_info": {
   "codemirror_mode": {
    "name": "ipython",
    "version": 3
   },
   "file_extension": ".py",
   "mimetype": "text/x-python",
   "name": "python",
   "nbconvert_exporter": "python",
   "pygments_lexer": "ipython3",
   "version": "3.7.3"
  }
 },
 "nbformat": 4,
 "nbformat_minor": 2
}
