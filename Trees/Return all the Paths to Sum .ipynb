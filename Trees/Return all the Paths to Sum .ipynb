{
 "cells": [
  {
   "cell_type": "markdown",
   "metadata": {},
   "source": [
    "### 113. Path Sum II\n",
    "#### Recursion DFS ; why not backtracking ?\n",
    "## From root to leafe node -- construcrts a path."
   ]
  },
  {
   "cell_type": "markdown",
   "metadata": {},
   "source": [
    "#         \n",
    "              5\n",
    "             / \\\n",
    "            4   8\n",
    "           /   / \\\n",
    "          11  13  4\n",
    "         /  \\    / \\\n",
    "        7    2  5   1\n",
    "        \n",
    "        sum = 22\n",
    "        Returns:\n",
    "        [\n",
    "           [5,4,11,2],\n",
    "           [5,8,4,5]\n",
    "        ]"
   ]
  },
  {
   "cell_type": "code",
   "execution_count": null,
   "metadata": {},
   "outputs": [],
   "source": []
  },
  {
   "cell_type": "code",
   "execution_count": null,
   "metadata": {},
   "outputs": [],
   "source": [
    "# Definition for a binary tree node.\n",
    "# class TreeNode:\n",
    "#     def __init__(self, val=0, left=None, right=None):\n",
    "#         self.val = val\n",
    "#         self.left = left\n",
    "#         self.right = right\n",
    "\n",
    "class Solution:\n",
    "    def pathSum(self, root: TreeNode, sum: int) -> List[List[int]]:\n",
    "        if not root:\n",
    "            return []\n",
    "        res = []\n",
    "        self.solve(root,sum,[],res)\n",
    "        return res\n",
    "    \n",
    "    def solve(self,root,sum,sub_list,res):\n",
    "        \n",
    "        if not root.left and not root.right and sum == root.val:\n",
    "            sub_list.append(root.val)\n",
    "            res.append(sub_list)\n",
    "            return sub_list\n",
    "            \n",
    "        if root.left:\n",
    "            #print('root.val',root.val)\n",
    "            #sub_list.append(root.val) # Thd problem with this statement is that its not making a new list \n",
    "            #rather appending to the same list, so we create the list by adding sub_list+[root.val]\n",
    "            # Now, think from the perspective of cummalative sum , we\n",
    "            '''\n",
    "            used there to sub_list[i:], though i was required there repititive but even then we created \n",
    "            a new list by doing sub_list[i:] or sub_list[i+1:], when we didnt want the character to be\n",
    "            repeated, so here in trees, what other options we have ?\n",
    "            that is to sub_list + [root.val] which makes a new list\n",
    "            \n",
    "            '''\n",
    "            # sub_list.append(root.val) -- > This wont work\n",
    "            #print('sub_list',sub_list)\n",
    "            self.solve(root.left,sum-root.val,sub_list+[root.val],res)\n",
    "            \n",
    "        if root.right:\n",
    "            #sub_list.append(root.val)\n",
    "            #sub_list = sub_list+[root.val]\n",
    "            self.solve(root.right,sum-root.val,sub_list+[root.val],res)\n",
    "            "
   ]
  },
  {
   "cell_type": "raw",
   "metadata": {},
   "source": [
    "The Below Code does not seems to work due to the fact that it might also include paths which doesnot end up with a leaf node !\n",
    "and that sub_list keeps appending to the same sub_list.\n",
    "Also we need to check the node.left if it exists \n",
    "Also again node.right exists."
   ]
  },
  {
   "cell_type": "code",
   "execution_count": null,
   "metadata": {},
   "outputs": [],
   "source": [
    "# Definition for a binary tree node.\n",
    "# class TreeNode:\n",
    "#     def __init__(self, val=0, left=None, right=None):\n",
    "#         self.val = val\n",
    "#         self.left = left\n",
    "#         self.right = right\n",
    "class Solution:\n",
    "    def pathSum(self, root: TreeNode, sum: int) -> List[List[int]]:\n",
    "        \n",
    "        def traverse(root,sub_list,f,res):\n",
    "            if sum(sub_list) == f:\n",
    "                res.append(sub_list)\n",
    "                return sub_list\n",
    "            if not root:\n",
    "                return\n",
    "                \n",
    "            sub_list.append(root.val)\n",
    "            traverse(root.left,sub_list,f,res)\n",
    "            traverse(root.right,sub_list,f,res)\n",
    "            sub_list.pop()\n",
    "        res = []\n",
    "        traverse(root,[],sum,res)\n",
    "        return res"
   ]
  }
 ],
 "metadata": {
  "kernelspec": {
   "display_name": "Python 3",
   "language": "python",
   "name": "python3"
  },
  "language_info": {
   "codemirror_mode": {
    "name": "ipython",
    "version": 3
   },
   "file_extension": ".py",
   "mimetype": "text/x-python",
   "name": "python",
   "nbconvert_exporter": "python",
   "pygments_lexer": "ipython3",
   "version": "3.7.3"
  }
 },
 "nbformat": 4,
 "nbformat_minor": 2
}
