{
 "cells": [
  {
   "cell_type": "markdown",
   "metadata": {},
   "source": [
    "## In-Order Traversal\n",
    "\n",
    "### Input: [1,null,2,3]\n",
    "       1\n",
    "        \\\n",
    "         2\n",
    "        /\n",
    "       3\n",
    "\n",
    "### Output: [1,3,2]"
   ]
  },
  {
   "cell_type": "code",
   "execution_count": 1,
   "metadata": {},
   "outputs": [],
   "source": [
    "class TreeNode:\n",
    "    def __init__(self,val):\n",
    "        self.val = val\n",
    "        self.left = None\n",
    "        self.right = None"
   ]
  },
  {
   "cell_type": "code",
   "execution_count": null,
   "metadata": {},
   "outputs": [],
   "source": [
    "class Solution:\n",
    "    def preOrder(self,root):\n",
    "        in_order = []\n",
    "        def solve(root):\n",
    "            if root:\n",
    "                solve(root.left)\n",
    "                in_order.append(root.val)\n",
    "                solve(root.right)\n",
    "        solve(root)\n",
    "        return in_order\n",
    "        \n",
    "        "
   ]
  },
  {
   "cell_type": "markdown",
   "metadata": {},
   "source": [
    "# Pre-Order Traversal\n",
    "\n",
    "### Input: [1,null,2,3]\n",
    "       1\n",
    "        \\\n",
    "         2\n",
    "        /\n",
    "       3\n",
    "\n",
    "### Output: [1,2,3]"
   ]
  },
  {
   "cell_type": "code",
   "execution_count": 4,
   "metadata": {},
   "outputs": [],
   "source": [
    "class Solution:\n",
    "    def preOrder(self,root):\n",
    "        pre_order = []\n",
    "        def solve(root):\n",
    "            if root:\n",
    "                pre_order.append(root.val)\n",
    "                solve(root.left)\n",
    "                solve(root.right)\n",
    "        solve(root)\n",
    "        return pre_order"
   ]
  },
  {
   "cell_type": "markdown",
   "metadata": {},
   "source": [
    "### Post-Order Traversal\n",
    "\n",
    "### Input: [1,null,2,3]\n",
    "       1\n",
    "        \\\n",
    "         2\n",
    "        /\n",
    "       3\n",
    "\n",
    "### Output: [3,2,1]"
   ]
  },
  {
   "cell_type": "code",
   "execution_count": null,
   "metadata": {},
   "outputs": [],
   "source": [
    "class Solution:\n",
    "    def postOrder(self,root):\n",
    "        post_order = []\n",
    "        def solve(root):\n",
    "            if root:\n",
    "                solve(root.left)\n",
    "                solve(root.right)\n",
    "                post_order.append(root.val)\n",
    "        solve(root)\n",
    "        return pre_order"
   ]
  }
 ],
 "metadata": {
  "kernelspec": {
   "display_name": "Python [conda env:py37]",
   "language": "python",
   "name": "conda-env-py37-py"
  },
  "language_info": {
   "codemirror_mode": {
    "name": "ipython",
    "version": 3
   },
   "file_extension": ".py",
   "mimetype": "text/x-python",
   "name": "python",
   "nbconvert_exporter": "python",
   "pygments_lexer": "ipython3",
   "version": "3.7.3"
  }
 },
 "nbformat": 4,
 "nbformat_minor": 2
}
