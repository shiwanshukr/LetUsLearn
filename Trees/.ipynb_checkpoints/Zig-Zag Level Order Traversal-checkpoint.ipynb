{
 "cells": [
  {
   "cell_type": "markdown",
   "metadata": {},
   "source": [
    "# \n",
    "\n",
    "    Given binary tree [3,9,20,null,null,15,7]\n",
    "    \n",
    "        3\n",
    "       / \\\n",
    "      9  20\n",
    "        /  \\\n",
    "       15   7\n",
    "\n",
    "    Output :\n",
    "    [\n",
    "      [3],\n",
    "      [20,9],\n",
    "      [15,7]\n",
    "    ]"
   ]
  },
  {
   "cell_type": "markdown",
   "metadata": {},
   "source": [
    "# Zig-Zag Level Order Traversal"
   ]
  },
  {
   "cell_type": "code",
   "execution_count": null,
   "metadata": {},
   "outputs": [],
   "source": [
    "# Definition for a binary tree node.\n",
    "# class TreeNode:\n",
    "#     def __init__(self, val=0, left=None, right=None):\n",
    "#         self.val = val\n",
    "#         self.left = left\n",
    "#         self.right = right\n",
    "class Solution:\n",
    "    def zigzagLevelOrder(self, root: TreeNode) -> List[List[int]]:\n",
    "        if not root:\n",
    "            return []\n",
    "        q =[root]\n",
    "        zig_zag =[]\n",
    "        count = 0\n",
    "        while q:\n",
    "            temp =[]\n",
    "            x = []\n",
    "            for node in q:\n",
    "                temp.append(node.val)\n",
    "                if node.left:\n",
    "                    x.append(node.left)\n",
    "                if node.right:\n",
    "                    x.append(node.right)\n",
    "            \n",
    "            q = x\n",
    "            if count%2 == 0:\n",
    "                zig_zag.append(temp)\n",
    "            else:\n",
    "                zig_zag.append(temp[::-1])\n",
    "            count+=1\n",
    "        return zig_zag"
   ]
  },
  {
   "cell_type": "code",
   "execution_count": null,
   "metadata": {},
   "outputs": [],
   "source": []
  }
 ],
 "metadata": {
  "kernelspec": {
   "display_name": "Python 3",
   "language": "python",
   "name": "python3"
  },
  "language_info": {
   "codemirror_mode": {
    "name": "ipython",
    "version": 3
   },
   "file_extension": ".py",
   "mimetype": "text/x-python",
   "name": "python",
   "nbconvert_exporter": "python",
   "pygments_lexer": "ipython3",
   "version": "3.7.3"
  }
 },
 "nbformat": 4,
 "nbformat_minor": 2
}
