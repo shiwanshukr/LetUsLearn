{
 "cells": [
  {
   "cell_type": "markdown",
   "metadata": {},
   "source": [
    "## Validate BST"
   ]
  },
  {
   "cell_type": "markdown",
   "metadata": {},
   "source": [
    "#### Given a binary tree, determine if it is a valid binary search tree (BST).\n",
    "\n",
    "Assume a BST is defined as follows:\n",
    "\n",
    "The left subtree of a node contains only nodes with keys less than the node's key.\n",
    "The right subtree of a node contains only nodes with keys greater than the node's key.\n",
    "Both the left and right subtrees must also be binary search trees."
   ]
  },
  {
   "cell_type": "markdown",
   "metadata": {},
   "source": [
    "#    \n",
    "        2\n",
    "       / \\\n",
    "      1   3\n",
    "\n",
    "    Input: [2,1,3]\n",
    "    Output: true"
   ]
  },
  {
   "cell_type": "markdown",
   "metadata": {},
   "source": [
    "#### We can approach this question in 2 ways, \n",
    "     1. We can do the pre-Order traversal of the tree and check whether its sorted set(list) is eqals to it or not.\n",
    "     2. We can recursively call the True states and check as it should be True as we know that Left part is small \n",
    "       and Right is bigger.\n",
    "       If there are any cases where it doesnot satisfies the True state, we can return False\n",
    "\n",
    "Lets Code these 2 approaches!!\n"
   ]
  },
  {
   "cell_type": "code",
   "execution_count": null,
   "metadata": {},
   "outputs": [],
   "source": [
    "# First Approach\n",
    "class Solution:\n",
    "    def isValidBST(self, root: TreeNode) -> bool:\n",
    "        visit_order = []\n",
    "        def traverse(node):\n",
    "            if node:\n",
    "                # travel left\n",
    "                traverse(node.left)\n",
    "                # visit\n",
    "                visit_order.append(node.val)\n",
    "                # travel right\n",
    "                traverse(node.right)\n",
    "                \n",
    "        traverse(root)\n",
    "        \n",
    "        if visit_order == sorted(set(visit_order)):\n",
    "            return True\n",
    "        return False"
   ]
  },
  {
   "cell_type": "markdown",
   "metadata": {},
   "source": [
    "We can make a helper function to design the left and right initial values so we could check across the entire tree and for the False/True States "
   ]
  },
  {
   "cell_type": "markdown",
   "metadata": {},
   "source": [
    "Why the below code is not a valid program?"
   ]
  },
  {
   "cell_type": "code",
   "execution_count": null,
   "metadata": {},
   "outputs": [],
   "source": [
    "class Solution:\n",
    "    def isValidBST(self, root: TreeNode) -> bool:\n",
    "        \n",
    "        def traverse(r,L,R):\n",
    "            \n",
    "            if L and R:\n",
    "                if L.val>=R.val or r.val>=R.val or r.val<=L.val:\n",
    "                    return False\n",
    "                else:\n",
    "                    return traverse(L,L.left,L.right) and traverse(R,R.left,R.right)\n",
    "            \n",
    "            elif L or R:\n",
    "                if L:\n",
    "                    if L.val>=r.val:\n",
    "                        return False\n",
    "                    else:\n",
    "                        return traverse(L,L.left,L.right)\n",
    "\n",
    "                if R:\n",
    "                    if R.val<=r.val:\n",
    "                        return False\n",
    "                    else:\n",
    "                        return traverse(R,R.left,R.right)\n",
    "            else:\n",
    "                return True\n",
    "                \n",
    "            return True\n",
    "        \n",
    "        return not root or traverse(root,root.left,root.right)\n",
    "        "
   ]
  },
  {
   "cell_type": "markdown",
   "metadata": {},
   "source": [
    "## For Tree such as:\n",
    "        10\n",
    "       /  \\\n",
    "      5    15\n",
    "           / \\\n",
    "         6    20\n",
    "From above program, the sub-Tree [15, 6 and 20] satifies the program but doesnot satisfy above all as the root value 10 here doesnot complete the Question, in this program is not sufficient from that perspective!"
   ]
  },
  {
   "cell_type": "markdown",
   "metadata": {},
   "source": [
    "#    \n",
    "        10      ----> Lets say     10    Here 10 is root, lower is = -oo and higher = +oo,\n",
    "       /  \\                       /  \\   so, when you compare first time the nodes value is actually <higher &\n",
    "      5    15                    5   15  greater than lower.\n",
    "       /  \\                              Next time, lets say, 15 is the node which is the right child of 10.\n",
    "      5    15                            This time, lower becomes 10 as right will be any way larger than root.\n",
    "           / \\                           and higher remains the same.\n",
    "         6    20                         Similarly, when its 5, left of 10, higher becomes 10 as left is less\n",
    "                                         than parent 10."
   ]
  },
  {
   "cell_type": "code",
   "execution_count": null,
   "metadata": {},
   "outputs": [],
   "source": [
    "class Solution:\n",
    "    def isValidBST(self, root):\n",
    "        \n",
    "        def helper(node, lower,higher):\n",
    "            if not node:\n",
    "                return True\n",
    "            \n",
    "            if node.val<lower or node.val>higher:\n",
    "                return False\n",
    "            if not helper(node.left,node.left.val,upper):\n",
    "                return False\n",
    "            if not helper(node.right,lower,node.right.val):\n",
    "                return False\n",
    "            return True\n",
    "        \n",
    "        lower = float('-inf')\n",
    "        upper = float('inf')\n",
    "        return helper(root,lower,higher)"
   ]
  }
 ],
 "metadata": {
  "kernelspec": {
   "display_name": "Python [conda env:py37]",
   "language": "python",
   "name": "conda-env-py37-py"
  },
  "language_info": {
   "codemirror_mode": {
    "name": "ipython",
    "version": 3
   },
   "file_extension": ".py",
   "mimetype": "text/x-python",
   "name": "python",
   "nbconvert_exporter": "python",
   "pygments_lexer": "ipython3",
   "version": "3.7.3"
  }
 },
 "nbformat": 4,
 "nbformat_minor": 2
}
