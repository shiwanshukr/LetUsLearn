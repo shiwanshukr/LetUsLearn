{
 "cells": [
  {
   "cell_type": "raw",
   "metadata": {},
   "source": [
    "Given a binary tree, check whether it is a mirror of itself (ie, symmetric around its center).\n",
    "\n",
    "For example, this binary tree [1,2,2,3,4,4,3] is symmetric:\n",
    "\n",
    "    1\n",
    "   / \\\n",
    "  2   2\n",
    " / \\ / \\\n",
    "3  4 4  3"
   ]
  },
  {
   "cell_type": "markdown",
   "metadata": {},
   "source": [
    "#    \n",
    "                        1\n",
    "                       / \\\n",
    "            node'1'-> 2   2 <- node'2'\n",
    "                     / \\ / \\\n",
    "     node'1'.left-> 3  4 4  3   <-node'2'.right"
   ]
  },
  {
   "cell_type": "markdown",
   "metadata": {},
   "source": [
    "# Recursive approach"
   ]
  },
  {
   "cell_type": "code",
   "execution_count": 3,
   "metadata": {},
   "outputs": [],
   "source": [
    "class Solution:\n",
    "    def symetric(self,root):\n",
    "        return not root or isSym(root.left,root.right)\n",
    "    def isSym(self,L,R):\n",
    "        if L and R:\n",
    "            return self.isSym(L.left,R.right) or self.isSym(L.right,R.left)\n",
    "        return L==R"
   ]
  },
  {
   "cell_type": "markdown",
   "metadata": {},
   "source": [
    "# Iterative approach"
   ]
  },
  {
   "cell_type": "code",
   "execution_count": 4,
   "metadata": {},
   "outputs": [],
   "source": [
    "class Solution:\n",
    "    def symetric(self,root):\n",
    "        q = [root,root]\n",
    "        while q:\n",
    "            node1 = q.pop()\n",
    "            node2 = q.pop()\n",
    "            if not node1 and not node2:\n",
    "                continue\n",
    "            elif node1 and node2 and node1.val!=node2.val:\n",
    "                return False\n",
    "            elif node1 or node2:\n",
    "                return False\n",
    "            else:\n",
    "                q.append(node1.left)\n",
    "                q.append(node2.right)\n",
    "                q.append(node1.right)\n",
    "                q.append(node2.left)\n",
    "        return True\n",
    "                "
   ]
  },
  {
   "cell_type": "raw",
   "metadata": {},
   "source": [
    "T : O(n)\n",
    "S : O(n)"
   ]
  },
  {
   "cell_type": "code",
   "execution_count": null,
   "metadata": {},
   "outputs": [],
   "source": []
  }
 ],
 "metadata": {
  "kernelspec": {
   "display_name": "Python 3",
   "language": "python",
   "name": "python3"
  },
  "language_info": {
   "codemirror_mode": {
    "name": "ipython",
    "version": 3
   },
   "file_extension": ".py",
   "mimetype": "text/x-python",
   "name": "python",
   "nbconvert_exporter": "python",
   "pygments_lexer": "ipython3",
   "version": "3.7.3"
  }
 },
 "nbformat": 4,
 "nbformat_minor": 2
}
